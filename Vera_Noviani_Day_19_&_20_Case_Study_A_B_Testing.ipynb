{
  "nbformat": 4,
  "nbformat_minor": 0,
  "metadata": {
    "colab": {
      "name": "Vera Noviani - Day 19 & 20 Case Study A/B Testing.ipynb",
      "provenance": [],
      "toc_visible": true,
      "authorship_tag": "ABX9TyO7phqjWxDzd3qka8O8zDLE",
      "include_colab_link": true
    },
    "kernelspec": {
      "name": "python3",
      "display_name": "Python 3"
    },
    "language_info": {
      "name": "python"
    }
  },
  "cells": [
    {
      "cell_type": "markdown",
      "metadata": {
        "id": "view-in-github",
        "colab_type": "text"
      },
      "source": [
        "<a href=\"https://colab.research.google.com/github/veranoviani/Case-Study-A-B-Testing/blob/main/Vera_Noviani_Day_19_%26_20_Case_Study_A_B_Testing.ipynb\" target=\"_parent\"><img src=\"https://colab.research.google.com/assets/colab-badge.svg\" alt=\"Open In Colab\"/></a>"
      ]
    },
    {
      "cell_type": "markdown",
      "source": [
        "# Install dan Load Packages\n",
        "\n",
        "\n"
      ],
      "metadata": {
        "id": "ukCX37UEAZV3"
      }
    },
    {
      "cell_type": "code",
      "execution_count": 2,
      "metadata": {
        "colab": {
          "base_uri": "https://localhost:8080/"
        },
        "id": "wDOklnKaAVga",
        "outputId": "1312905d-cc2c-4af8-d15a-19ead4eb9e88"
      },
      "outputs": [
        {
          "output_type": "stream",
          "name": "stderr",
          "text": [
            "/usr/local/lib/python3.7/dist-packages/statsmodels/tools/_testing.py:19: FutureWarning: pandas.util.testing is deprecated. Use the functions in the public API at pandas.testing instead.\n",
            "  import pandas.util.testing as tm\n"
          ]
        }
      ],
      "source": [
        "import numpy as np\n",
        "import pandas as pd\n",
        "import matplotlib.pyplot as plt\n",
        "import seaborn as sns\n",
        "\n",
        "from statsmodels.stats.power import TTestPower, TTestIndPower, GofChisquarePower\n",
        "from statsmodels.stats.proportion import proportions_chisquare\n",
        "from statsmodels.stats.weightstats import ttest_ind\n",
        "import statsmodels.api as sm\n",
        "\n",
        "import scipy.stats"
      ]
    },
    {
      "cell_type": "code",
      "source": [
        "df = pd.read_csv(\"https://raw.githubusercontent.com/hadimaster65555/dataset_for_teaching/main/dataset/marketing_campaign_experiment/marketing-clean.csv\")"
      ],
      "metadata": {
        "id": "wVoV4XJEAfHz"
      },
      "execution_count": 3,
      "outputs": []
    },
    {
      "cell_type": "code",
      "source": [
        "df.isna().sum()"
      ],
      "metadata": {
        "colab": {
          "base_uri": "https://localhost:8080/"
        },
        "id": "2OAqmVfLAtwz",
        "outputId": "24799ba3-7d30-4600-ed9d-ed7f9110d03c"
      },
      "execution_count": 4,
      "outputs": [
        {
          "output_type": "execute_result",
          "data": {
            "text/plain": [
              "user_id                0\n",
              "date_served            0\n",
              "marketing_channel      0\n",
              "variant                0\n",
              "converted              0\n",
              "language_displayed     0\n",
              "language_preferred     0\n",
              "age_group              0\n",
              "date_subscribed        0\n",
              "date_canceled          0\n",
              "subscribing_channel    0\n",
              "is_retained            0\n",
              "conversion             0\n",
              "dtype: int64"
            ]
          },
          "metadata": {},
          "execution_count": 4
        }
      ]
    },
    {
      "cell_type": "code",
      "source": [
        "df.head()"
      ],
      "metadata": {
        "colab": {
          "base_uri": "https://localhost:8080/",
          "height": 340
        },
        "id": "W26733DVBvwa",
        "outputId": "ef2898f2-d402-4ba3-8c75-467e45bf01b3"
      },
      "execution_count": 5,
      "outputs": [
        {
          "output_type": "execute_result",
          "data": {
            "text/plain": [
              "      user_id date_served marketing_channel          variant  converted  \\\n",
              "0  a100000040      1/1/18         House Ads  personalization       True   \n",
              "1  a100000041      1/1/18         House Ads  personalization       True   \n",
              "2  a100000042      1/1/18         House Ads  personalization       True   \n",
              "3  a100000043      1/1/18         House Ads  personalization       True   \n",
              "4  a100000044      1/1/18         House Ads  personalization       True   \n",
              "\n",
              "  language_displayed language_preferred    age_group date_subscribed  \\\n",
              "0            English            English  19-24 years          1/1/18   \n",
              "1             Arabic             Arabic  24-30 years          1/1/18   \n",
              "2            English            English   0-18 years          1/1/18   \n",
              "3            English            English  19-24 years          1/1/18   \n",
              "4             Arabic             Arabic  24-30 years          1/1/18   \n",
              "\n",
              "  date_canceled subscribing_channel  is_retained  conversion  \n",
              "0       1/18/18           House Ads        False           1  \n",
              "1       2/22/18           House Ads        False           1  \n",
              "2        3/9/18           House Ads        False           1  \n",
              "3       2/18/18           House Ads        False           1  \n",
              "4        3/3/18           House Ads        False           1  "
            ],
            "text/html": [
              "\n",
              "  <div id=\"df-554ea427-8fda-45c2-b58e-a45d408a7c5f\">\n",
              "    <div class=\"colab-df-container\">\n",
              "      <div>\n",
              "<style scoped>\n",
              "    .dataframe tbody tr th:only-of-type {\n",
              "        vertical-align: middle;\n",
              "    }\n",
              "\n",
              "    .dataframe tbody tr th {\n",
              "        vertical-align: top;\n",
              "    }\n",
              "\n",
              "    .dataframe thead th {\n",
              "        text-align: right;\n",
              "    }\n",
              "</style>\n",
              "<table border=\"1\" class=\"dataframe\">\n",
              "  <thead>\n",
              "    <tr style=\"text-align: right;\">\n",
              "      <th></th>\n",
              "      <th>user_id</th>\n",
              "      <th>date_served</th>\n",
              "      <th>marketing_channel</th>\n",
              "      <th>variant</th>\n",
              "      <th>converted</th>\n",
              "      <th>language_displayed</th>\n",
              "      <th>language_preferred</th>\n",
              "      <th>age_group</th>\n",
              "      <th>date_subscribed</th>\n",
              "      <th>date_canceled</th>\n",
              "      <th>subscribing_channel</th>\n",
              "      <th>is_retained</th>\n",
              "      <th>conversion</th>\n",
              "    </tr>\n",
              "  </thead>\n",
              "  <tbody>\n",
              "    <tr>\n",
              "      <th>0</th>\n",
              "      <td>a100000040</td>\n",
              "      <td>1/1/18</td>\n",
              "      <td>House Ads</td>\n",
              "      <td>personalization</td>\n",
              "      <td>True</td>\n",
              "      <td>English</td>\n",
              "      <td>English</td>\n",
              "      <td>19-24 years</td>\n",
              "      <td>1/1/18</td>\n",
              "      <td>1/18/18</td>\n",
              "      <td>House Ads</td>\n",
              "      <td>False</td>\n",
              "      <td>1</td>\n",
              "    </tr>\n",
              "    <tr>\n",
              "      <th>1</th>\n",
              "      <td>a100000041</td>\n",
              "      <td>1/1/18</td>\n",
              "      <td>House Ads</td>\n",
              "      <td>personalization</td>\n",
              "      <td>True</td>\n",
              "      <td>Arabic</td>\n",
              "      <td>Arabic</td>\n",
              "      <td>24-30 years</td>\n",
              "      <td>1/1/18</td>\n",
              "      <td>2/22/18</td>\n",
              "      <td>House Ads</td>\n",
              "      <td>False</td>\n",
              "      <td>1</td>\n",
              "    </tr>\n",
              "    <tr>\n",
              "      <th>2</th>\n",
              "      <td>a100000042</td>\n",
              "      <td>1/1/18</td>\n",
              "      <td>House Ads</td>\n",
              "      <td>personalization</td>\n",
              "      <td>True</td>\n",
              "      <td>English</td>\n",
              "      <td>English</td>\n",
              "      <td>0-18 years</td>\n",
              "      <td>1/1/18</td>\n",
              "      <td>3/9/18</td>\n",
              "      <td>House Ads</td>\n",
              "      <td>False</td>\n",
              "      <td>1</td>\n",
              "    </tr>\n",
              "    <tr>\n",
              "      <th>3</th>\n",
              "      <td>a100000043</td>\n",
              "      <td>1/1/18</td>\n",
              "      <td>House Ads</td>\n",
              "      <td>personalization</td>\n",
              "      <td>True</td>\n",
              "      <td>English</td>\n",
              "      <td>English</td>\n",
              "      <td>19-24 years</td>\n",
              "      <td>1/1/18</td>\n",
              "      <td>2/18/18</td>\n",
              "      <td>House Ads</td>\n",
              "      <td>False</td>\n",
              "      <td>1</td>\n",
              "    </tr>\n",
              "    <tr>\n",
              "      <th>4</th>\n",
              "      <td>a100000044</td>\n",
              "      <td>1/1/18</td>\n",
              "      <td>House Ads</td>\n",
              "      <td>personalization</td>\n",
              "      <td>True</td>\n",
              "      <td>Arabic</td>\n",
              "      <td>Arabic</td>\n",
              "      <td>24-30 years</td>\n",
              "      <td>1/1/18</td>\n",
              "      <td>3/3/18</td>\n",
              "      <td>House Ads</td>\n",
              "      <td>False</td>\n",
              "      <td>1</td>\n",
              "    </tr>\n",
              "  </tbody>\n",
              "</table>\n",
              "</div>\n",
              "      <button class=\"colab-df-convert\" onclick=\"convertToInteractive('df-554ea427-8fda-45c2-b58e-a45d408a7c5f')\"\n",
              "              title=\"Convert this dataframe to an interactive table.\"\n",
              "              style=\"display:none;\">\n",
              "        \n",
              "  <svg xmlns=\"http://www.w3.org/2000/svg\" height=\"24px\"viewBox=\"0 0 24 24\"\n",
              "       width=\"24px\">\n",
              "    <path d=\"M0 0h24v24H0V0z\" fill=\"none\"/>\n",
              "    <path d=\"M18.56 5.44l.94 2.06.94-2.06 2.06-.94-2.06-.94-.94-2.06-.94 2.06-2.06.94zm-11 1L8.5 8.5l.94-2.06 2.06-.94-2.06-.94L8.5 2.5l-.94 2.06-2.06.94zm10 10l.94 2.06.94-2.06 2.06-.94-2.06-.94-.94-2.06-.94 2.06-2.06.94z\"/><path d=\"M17.41 7.96l-1.37-1.37c-.4-.4-.92-.59-1.43-.59-.52 0-1.04.2-1.43.59L10.3 9.45l-7.72 7.72c-.78.78-.78 2.05 0 2.83L4 21.41c.39.39.9.59 1.41.59.51 0 1.02-.2 1.41-.59l7.78-7.78 2.81-2.81c.8-.78.8-2.07 0-2.86zM5.41 20L4 18.59l7.72-7.72 1.47 1.35L5.41 20z\"/>\n",
              "  </svg>\n",
              "      </button>\n",
              "      \n",
              "  <style>\n",
              "    .colab-df-container {\n",
              "      display:flex;\n",
              "      flex-wrap:wrap;\n",
              "      gap: 12px;\n",
              "    }\n",
              "\n",
              "    .colab-df-convert {\n",
              "      background-color: #E8F0FE;\n",
              "      border: none;\n",
              "      border-radius: 50%;\n",
              "      cursor: pointer;\n",
              "      display: none;\n",
              "      fill: #1967D2;\n",
              "      height: 32px;\n",
              "      padding: 0 0 0 0;\n",
              "      width: 32px;\n",
              "    }\n",
              "\n",
              "    .colab-df-convert:hover {\n",
              "      background-color: #E2EBFA;\n",
              "      box-shadow: 0px 1px 2px rgba(60, 64, 67, 0.3), 0px 1px 3px 1px rgba(60, 64, 67, 0.15);\n",
              "      fill: #174EA6;\n",
              "    }\n",
              "\n",
              "    [theme=dark] .colab-df-convert {\n",
              "      background-color: #3B4455;\n",
              "      fill: #D2E3FC;\n",
              "    }\n",
              "\n",
              "    [theme=dark] .colab-df-convert:hover {\n",
              "      background-color: #434B5C;\n",
              "      box-shadow: 0px 1px 3px 1px rgba(0, 0, 0, 0.15);\n",
              "      filter: drop-shadow(0px 1px 2px rgba(0, 0, 0, 0.3));\n",
              "      fill: #FFFFFF;\n",
              "    }\n",
              "  </style>\n",
              "\n",
              "      <script>\n",
              "        const buttonEl =\n",
              "          document.querySelector('#df-554ea427-8fda-45c2-b58e-a45d408a7c5f button.colab-df-convert');\n",
              "        buttonEl.style.display =\n",
              "          google.colab.kernel.accessAllowed ? 'block' : 'none';\n",
              "\n",
              "        async function convertToInteractive(key) {\n",
              "          const element = document.querySelector('#df-554ea427-8fda-45c2-b58e-a45d408a7c5f');\n",
              "          const dataTable =\n",
              "            await google.colab.kernel.invokeFunction('convertToInteractive',\n",
              "                                                     [key], {});\n",
              "          if (!dataTable) return;\n",
              "\n",
              "          const docLinkHtml = 'Like what you see? Visit the ' +\n",
              "            '<a target=\"_blank\" href=https://colab.research.google.com/notebooks/data_table.ipynb>data table notebook</a>'\n",
              "            + ' to learn more about interactive tables.';\n",
              "          element.innerHTML = '';\n",
              "          dataTable['output_type'] = 'display_data';\n",
              "          await google.colab.output.renderOutput(dataTable, element);\n",
              "          const docLink = document.createElement('div');\n",
              "          docLink.innerHTML = docLinkHtml;\n",
              "          element.appendChild(docLink);\n",
              "        }\n",
              "      </script>\n",
              "    </div>\n",
              "  </div>\n",
              "  "
            ]
          },
          "metadata": {},
          "execution_count": 5
        }
      ]
    },
    {
      "cell_type": "markdown",
      "source": [
        "# Jumlah User Per Marketing Channel"
      ],
      "metadata": {
        "id": "9TVH9XU9CWNQ"
      }
    },
    {
      "cell_type": "code",
      "source": [
        "marketing_user = df.groupby(\"marketing_channel\").agg({\"user_id\":\"nunique\"})\n",
        "marketing_user.sort_values(\"user_id\",ascending=True).plot(kind='barh').set_title(\"Jumlah User Per Marketing Channel\",fontsize=12)\n",
        "plt.xlabel(\"Jumlah User\",fontsize=12)\n",
        "plt.ylabel(\"Marketing Channel\",fontsize=12)"
      ],
      "metadata": {
        "colab": {
          "base_uri": "https://localhost:8080/",
          "height": 315
        },
        "id": "3BgA50xSB0OI",
        "outputId": "091c86cf-e4c8-40b8-c2a6-01d4ddc9a43f"
      },
      "execution_count": 6,
      "outputs": [
        {
          "output_type": "execute_result",
          "data": {
            "text/plain": [
              "Text(0, 0.5, 'Marketing Channel')"
            ]
          },
          "metadata": {},
          "execution_count": 6
        },
        {
          "output_type": "display_data",
          "data": {
            "text/plain": [
              "<Figure size 432x288 with 1 Axes>"
            ],
            "image/png": "[encoded data removed]"
          },
          "metadata": {
            "needs_background": "light"
          }
        }
      ]
    },
    {
      "cell_type": "markdown",
      "source": [
        "Dilihat dari jumlah user yang direach melalui marketing channel, tertinggi sekitar 200 user terdapat dari house ads. Dan selanjutnya sekitar 100 user terdapat dari instagram dan facebook."
      ],
      "metadata": {
        "id": "Z4sQkJ1zs7lW"
      }
    },
    {
      "cell_type": "markdown",
      "source": [
        "# Jumlah User Per Variant"
      ],
      "metadata": {
        "id": "rKgGK8gxSj0h"
      }
    },
    {
      "cell_type": "code",
      "source": [
        "variant_user = df.groupby (\"variant\").agg({\"user_id\":\"nunique\"})\n",
        "variant_user.sort_values(\"user_id\",ascending=True).plot(kind='barh').set_title(\"Jumlah User Per Variant\",fontsize=12)\n",
        "plt.xlabel(\"Jumlah User\",fontsize=12)\n",
        "plt.ylabel(\"Variant\",fontsize=12)"
      ],
      "metadata": {
        "colab": {
          "base_uri": "https://localhost:8080/",
          "height": 315
        },
        "id": "8lyMaAmSSlpg",
        "outputId": "e8526dc8-9403-4ae8-9766-8a73ce52845a"
      },
      "execution_count": 7,
      "outputs": [
        {
          "output_type": "execute_result",
          "data": {
            "text/plain": [
              "Text(0, 0.5, 'Variant')"
            ]
          },
          "metadata": {},
          "execution_count": 7
        },
        {
          "output_type": "display_data",
          "data": {
            "text/plain": [
              "<Figure size 432x288 with 1 Axes>"
            ],
            "image/png": "[encoded data removed]"
          },
          "metadata": {
            "needs_background": "light"
          }
        }
      ]
    },
    {
      "cell_type": "markdown",
      "source": [
        "Dilihat dari variant iklan yang ada tersebut hampir 250 user adalah variant personalization dan 200 an user variant control. "
      ],
      "metadata": {
        "id": "HCrGDv34EQjD"
      }
    },
    {
      "cell_type": "markdown",
      "source": [
        "# Jumlah User Coverted Per Variant"
      ],
      "metadata": {
        "id": "s6GFgFtBcRsK"
      }
    },
    {
      "cell_type": "code",
      "source": [
        "plt.figure(figsize=(8,6),dpi=90)\n",
        "sns.countplot(data=df,x=\"variant\",hue=\"converted\").set_title(\"Jumlah User Converted\",fontsize=12)\n",
        "plt.xlabel(\"Variant\",fontsize=12)\n",
        "plt.ylabel(\"Jumlah User\",fontsize=12)"
      ],
      "metadata": {
        "colab": {
          "base_uri": "https://localhost:8080/",
          "height": 520
        },
        "id": "c-iRxg3scPAB",
        "outputId": "4483af6d-829d-4df5-819d-e7aacb4136bf"
      },
      "execution_count": 8,
      "outputs": [
        {
          "output_type": "execute_result",
          "data": {
            "text/plain": [
              "Text(0, 0.5, 'Jumlah User')"
            ]
          },
          "metadata": {},
          "execution_count": 8
        },
        {
          "output_type": "display_data",
          "data": {
            "text/plain": [
              "<Figure size 720x540 with 1 Axes>"
            ],
            "image/png": "[encoded data removed]"
          },
          "metadata": {
            "needs_background": "light"
          }
        }
      ]
    },
    {
      "cell_type": "markdown",
      "source": [
        "Dilihat dari histogram yang telah di converted terjadi bahwa variant personalization lebih tinggi daripada variant control"
      ],
      "metadata": {
        "id": "oLGeK13PGsG3"
      }
    },
    {
      "cell_type": "markdown",
      "source": [
        "# Jumlah User Converted Per Variant Dari Waktu Ke Waktu"
      ],
      "metadata": {
        "id": "tgXD2AOjevKB"
      }
    },
    {
      "cell_type": "code",
      "source": [
        "df[\"date_subscribed\"].unique()"
      ],
      "metadata": {
        "colab": {
          "base_uri": "https://localhost:8080/"
        },
        "id": "GS0ZEhBrcY8j",
        "outputId": "7ed2f6a3-51f7-4131-856c-3931c053cda3"
      },
      "execution_count": 9,
      "outputs": [
        {
          "output_type": "execute_result",
          "data": {
            "text/plain": [
              "array(['1/1/18', '1/2/18', '1/3/18', '1/4/18', '1/5/18', '1/6/18',\n",
              "       '1/7/18', '1/8/18', '1/9/18', '1/10/18', '1/11/18', '1/12/18',\n",
              "       '1/13/18', '1/14/18', '1/15/18', '1/16/18', '1/17/18', '1/18/18',\n",
              "       '1/30/18', '1/31/18', '1/21/18', '1/22/18', '1/23/18', '1/24/18',\n",
              "       '1/25/18', '1/26/18', '1/27/18', '1/28/18', '1/29/18', '1/19/18',\n",
              "       '1/20/18'], dtype=object)"
            ]
          },
          "metadata": {},
          "execution_count": 9
        }
      ]
    },
    {
      "cell_type": "markdown",
      "source": [
        "Karena dilihat tanggal yang ada memiliki bulan dan tahun yang sama maka akan di lihat melalui hari converted per variant dari waktu ke waktu"
      ],
      "metadata": {
        "id": "OGGcpkxWHbGQ"
      }
    },
    {
      "cell_type": "code",
      "source": [
        "df[\"date_subscribed\"] = pd.to_datetime(df['date_subscribed'],format=\"%m/%d/%y\",infer_datetime_format=True)"
      ],
      "metadata": {
        "id": "ang1K1wyeTgy"
      },
      "execution_count": 10,
      "outputs": []
    },
    {
      "cell_type": "code",
      "source": [
        "rate_subscribe = df[[\"date_subscribed\",\"variant\",\"converted\"]].copy()\n",
        "rate_subscribe['day'] = rate_subscribe[\"date_subscribed\"].dt.day\n",
        "rate_subscribe = rate_subscribe.groupby([\"day\",\"variant\"],as_index=False)[\"converted\"].sum()\n",
        "\n",
        "#visual\n",
        "sns.lineplot(data=rate_subscribe,x='day',y=\"converted\",hue='variant').set_title(\"Jumlah Converted Per Waktu\",fontsize=12)\n",
        "plt.xlabel(\"Date\",fontsize=12)\n",
        "plt.ylabel(\"Jumlah Converted\",fontsize=12)"
      ],
      "metadata": {
        "colab": {
          "base_uri": "https://localhost:8080/",
          "height": 315
        },
        "id": "Y_AvmDUKc9Td",
        "outputId": "137e9335-4c83-4391-ba06-951ccb664310"
      },
      "execution_count": 26,
      "outputs": [
        {
          "output_type": "execute_result",
          "data": {
            "text/plain": [
              "Text(0, 0.5, 'Jumlah Converted')"
            ]
          },
          "metadata": {},
          "execution_count": 26
        },
        {
          "output_type": "display_data",
          "data": {
            "text/plain": [
              "<Figure size 432x288 with 1 Axes>"
            ],
            "image/png": "[encoded data removed]"
          },
          "metadata": {
            "needs_background": "light"
          }
        }
      ]
    },
    {
      "cell_type": "markdown",
      "source": [
        "Dilihat melalui grafik converted variant dari waktu ke waktu menunjukkan intensitas tertinggi pada variant personalization sekitar tanggal 16 dan variant control sekitar tanggal 18 yang dimana terjadi di waktu yang hampir sama."
      ],
      "metadata": {
        "id": "Uj4CJe84H8Nv"
      }
    },
    {
      "cell_type": "markdown",
      "source": [
        "# Jumlah User Converted Per Age Group"
      ],
      "metadata": {
        "id": "j3OQQqG5et4S"
      }
    },
    {
      "cell_type": "code",
      "source": [
        "age_group = df.groupby(\"age_group\").agg({\"user_id\":\"nunique\"})\n",
        "age_group.sort_values(\"user_id\",ascending=True).plot(kind='barh').set_title(\"Jumlah User Converted Per Age Group\",fontsize=12)\n",
        "plt.xlabel(\"Jumlah User\",fontsize=12)\n",
        "plt.ylabel(\"Age Group\",fontsize=12)"
      ],
      "metadata": {
        "colab": {
          "base_uri": "https://localhost:8080/",
          "height": 315
        },
        "id": "2p7YT28We01Q",
        "outputId": "862d58fd-fd46-4c9d-fc62-dc54c45cf5f9"
      },
      "execution_count": 12,
      "outputs": [
        {
          "output_type": "execute_result",
          "data": {
            "text/plain": [
              "Text(0, 0.5, 'Age Group')"
            ]
          },
          "metadata": {},
          "execution_count": 12
        },
        {
          "output_type": "display_data",
          "data": {
            "text/plain": [
              "<Figure size 432x288 with 1 Axes>"
            ],
            "image/png": "[encoded data removed]"
          },
          "metadata": {
            "needs_background": "light"
          }
        }
      ]
    },
    {
      "cell_type": "markdown",
      "source": [
        "Dilihat rata-rata umur pengguna user terbanyak terdapat di range usia 19-24 tahun lalu di range usia 24-30 tahun "
      ],
      "metadata": {
        "id": "1-NwsVtXKX_y"
      }
    },
    {
      "cell_type": "code",
      "source": [
        "age_conversion = df.groupby([\"age_group\",\"variant\"])[\"converted\"].mean().unstack()\n",
        "age_conversion.plot(kind=\"bar\").set_title(\"Jumlah Converted Per Age Group dan variant\",fontsize=12)\n",
        "plt.xlabel(\"Age group\",fontsize=12)\n",
        "plt.ylabel(\"Jumlah\",fontsize=12)"
      ],
      "metadata": {
        "colab": {
          "base_uri": "https://localhost:8080/",
          "height": 365
        },
        "id": "thsBZbFAfdbb",
        "outputId": "881dff81-b411-4a1d-89db-ae96e422978f"
      },
      "execution_count": 25,
      "outputs": [
        {
          "output_type": "execute_result",
          "data": {
            "text/plain": [
              "Text(0, 0.5, 'Jumlah')"
            ]
          },
          "metadata": {},
          "execution_count": 25
        },
        {
          "output_type": "display_data",
          "data": {
            "text/plain": [
              "<Figure size 432x288 with 1 Axes>"
            ],
            "image/png": "[encoded data removed]"
          },
          "metadata": {
            "needs_background": "light"
          }
        }
      ]
    },
    {
      "cell_type": "markdown",
      "source": [
        "Jika dilihat setelah di converted sesuai kategori pengguna melalui rentang usia. Variant personalization rata-rata usia sekitar 30-36 tahun dan 45-55 tahun. Sementara variant control rata-rata usia sekitar 55 tahun ke atas."
      ],
      "metadata": {
        "id": "N2Z608UGJzdF"
      }
    },
    {
      "cell_type": "markdown",
      "source": [
        "# Korelasi Preferred Language dan Converted"
      ],
      "metadata": {
        "id": "-SbgJxnxqX5p"
      }
    },
    {
      "cell_type": "code",
      "source": [
        "(df.groupby(\"language_preferred\")[\"converted\"].mean()*100).plot(kind=\"bar\")"
      ],
      "metadata": {
        "colab": {
          "base_uri": "https://localhost:8080/",
          "height": 327
        },
        "id": "Yx41IAWEknQr",
        "outputId": "9cae330d-6549-48f4-922c-ae0bf856aab7"
      },
      "execution_count": 27,
      "outputs": [
        {
          "output_type": "execute_result",
          "data": {
            "text/plain": [
              "<matplotlib.axes._subplots.AxesSubplot at 0x7f4acf476990>"
            ]
          },
          "metadata": {},
          "execution_count": 27
        },
        {
          "output_type": "display_data",
          "data": {
            "text/plain": [
              "<Figure size 432x288 with 1 Axes>"
            ],
            "image/png": "[encoded data removed]"
          },
          "metadata": {
            "needs_background": "light"
          }
        }
      ]
    },
    {
      "cell_type": "code",
      "source": [
        "pd.pivot_table(df,index='language_preferred',columns=\"language_displayed\",values=\"converted\",aggfunc=\"mean\").fillna(0)"
      ],
      "metadata": {
        "colab": {
          "base_uri": "https://localhost:8080/",
          "height": 206
        },
        "id": "E3DhcwJllC1e",
        "outputId": "f2103f17-c967-4152-e518-86901c3e137e"
      },
      "execution_count": 28,
      "outputs": [
        {
          "output_type": "execute_result",
          "data": {
            "text/plain": [
              "language_displayed  Arabic   English  German  Spanish\n",
              "language_preferred                                   \n",
              "Arabic                 1.0  1.000000     0.0      0.0\n",
              "English                0.0  0.587669     0.0      0.0\n",
              "German                 0.0  1.000000     0.9      0.0\n",
              "Spanish                0.0  0.600000     0.0      0.5"
            ],
            "text/html": [
              "\n",
              "  <div id=\"df-f4ad0882-3f17-4f95-903d-7ae834c1769b\">\n",
              "    <div class=\"colab-df-container\">\n",
              "      <div>\n",
              "<style scoped>\n",
              "    .dataframe tbody tr th:only-of-type {\n",
              "        vertical-align: middle;\n",
              "    }\n",
              "\n",
              "    .dataframe tbody tr th {\n",
              "        vertical-align: top;\n",
              "    }\n",
              "\n",
              "    .dataframe thead th {\n",
              "        text-align: right;\n",
              "    }\n",
              "</style>\n",
              "<table border=\"1\" class=\"dataframe\">\n",
              "  <thead>\n",
              "    <tr style=\"text-align: right;\">\n",
              "      <th>language_displayed</th>\n",
              "      <th>Arabic</th>\n",
              "      <th>English</th>\n",
              "      <th>German</th>\n",
              "      <th>Spanish</th>\n",
              "    </tr>\n",
              "    <tr>\n",
              "      <th>language_preferred</th>\n",
              "      <th></th>\n",
              "      <th></th>\n",
              "      <th></th>\n",
              "      <th></th>\n",
              "    </tr>\n",
              "  </thead>\n",
              "  <tbody>\n",
              "    <tr>\n",
              "      <th>Arabic</th>\n",
              "      <td>1.0</td>\n",
              "      <td>1.000000</td>\n",
              "      <td>0.0</td>\n",
              "      <td>0.0</td>\n",
              "    </tr>\n",
              "    <tr>\n",
              "      <th>English</th>\n",
              "      <td>0.0</td>\n",
              "      <td>0.587669</td>\n",
              "      <td>0.0</td>\n",
              "      <td>0.0</td>\n",
              "    </tr>\n",
              "    <tr>\n",
              "      <th>German</th>\n",
              "      <td>0.0</td>\n",
              "      <td>1.000000</td>\n",
              "      <td>0.9</td>\n",
              "      <td>0.0</td>\n",
              "    </tr>\n",
              "    <tr>\n",
              "      <th>Spanish</th>\n",
              "      <td>0.0</td>\n",
              "      <td>0.600000</td>\n",
              "      <td>0.0</td>\n",
              "      <td>0.5</td>\n",
              "    </tr>\n",
              "  </tbody>\n",
              "</table>\n",
              "</div>\n",
              "      <button class=\"colab-df-convert\" onclick=\"convertToInteractive('df-f4ad0882-3f17-4f95-903d-7ae834c1769b')\"\n",
              "              title=\"Convert this dataframe to an interactive table.\"\n",
              "              style=\"display:none;\">\n",
              "        \n",
              "  <svg xmlns=\"http://www.w3.org/2000/svg\" height=\"24px\"viewBox=\"0 0 24 24\"\n",
              "       width=\"24px\">\n",
              "    <path d=\"M0 0h24v24H0V0z\" fill=\"none\"/>\n",
              "    <path d=\"M18.56 5.44l.94 2.06.94-2.06 2.06-.94-2.06-.94-.94-2.06-.94 2.06-2.06.94zm-11 1L8.5 8.5l.94-2.06 2.06-.94-2.06-.94L8.5 2.5l-.94 2.06-2.06.94zm10 10l.94 2.06.94-2.06 2.06-.94-2.06-.94-.94-2.06-.94 2.06-2.06.94z\"/><path d=\"M17.41 7.96l-1.37-1.37c-.4-.4-.92-.59-1.43-.59-.52 0-1.04.2-1.43.59L10.3 9.45l-7.72 7.72c-.78.78-.78 2.05 0 2.83L4 21.41c.39.39.9.59 1.41.59.51 0 1.02-.2 1.41-.59l7.78-7.78 2.81-2.81c.8-.78.8-2.07 0-2.86zM5.41 20L4 18.59l7.72-7.72 1.47 1.35L5.41 20z\"/>\n",
              "  </svg>\n",
              "      </button>\n",
              "      \n",
              "  <style>\n",
              "    .colab-df-container {\n",
              "      display:flex;\n",
              "      flex-wrap:wrap;\n",
              "      gap: 12px;\n",
              "    }\n",
              "\n",
              "    .colab-df-convert {\n",
              "      background-color: #E8F0FE;\n",
              "      border: none;\n",
              "      border-radius: 50%;\n",
              "      cursor: pointer;\n",
              "      display: none;\n",
              "      fill: #1967D2;\n",
              "      height: 32px;\n",
              "      padding: 0 0 0 0;\n",
              "      width: 32px;\n",
              "    }\n",
              "\n",
              "    .colab-df-convert:hover {\n",
              "      background-color: #E2EBFA;\n",
              "      box-shadow: 0px 1px 2px rgba(60, 64, 67, 0.3), 0px 1px 3px 1px rgba(60, 64, 67, 0.15);\n",
              "      fill: #174EA6;\n",
              "    }\n",
              "\n",
              "    [theme=dark] .colab-df-convert {\n",
              "      background-color: #3B4455;\n",
              "      fill: #D2E3FC;\n",
              "    }\n",
              "\n",
              "    [theme=dark] .colab-df-convert:hover {\n",
              "      background-color: #434B5C;\n",
              "      box-shadow: 0px 1px 3px 1px rgba(0, 0, 0, 0.15);\n",
              "      filter: drop-shadow(0px 1px 2px rgba(0, 0, 0, 0.3));\n",
              "      fill: #FFFFFF;\n",
              "    }\n",
              "  </style>\n",
              "\n",
              "      <script>\n",
              "        const buttonEl =\n",
              "          document.querySelector('#df-f4ad0882-3f17-4f95-903d-7ae834c1769b button.colab-df-convert');\n",
              "        buttonEl.style.display =\n",
              "          google.colab.kernel.accessAllowed ? 'block' : 'none';\n",
              "\n",
              "        async function convertToInteractive(key) {\n",
              "          const element = document.querySelector('#df-f4ad0882-3f17-4f95-903d-7ae834c1769b');\n",
              "          const dataTable =\n",
              "            await google.colab.kernel.invokeFunction('convertToInteractive',\n",
              "                                                     [key], {});\n",
              "          if (!dataTable) return;\n",
              "\n",
              "          const docLinkHtml = 'Like what you see? Visit the ' +\n",
              "            '<a target=\"_blank\" href=https://colab.research.google.com/notebooks/data_table.ipynb>data table notebook</a>'\n",
              "            + ' to learn more about interactive tables.';\n",
              "          element.innerHTML = '';\n",
              "          dataTable['output_type'] = 'display_data';\n",
              "          await google.colab.output.renderOutput(dataTable, element);\n",
              "          const docLink = document.createElement('div');\n",
              "          docLink.innerHTML = docLinkHtml;\n",
              "          element.appendChild(docLink);\n",
              "        }\n",
              "      </script>\n",
              "    </div>\n",
              "  </div>\n",
              "  "
            ]
          },
          "metadata": {},
          "execution_count": 28
        }
      ]
    },
    {
      "cell_type": "markdown",
      "source": [
        "Dilihat dari data tersebut bahwa languange preferred tertinggi ialah bahasa arabic. Tapi setelah di converted tetap bahasa english yang paling tinggi memiliki korelasi dengan bahasa yang lain. Karena dengan menampilkan iklan dalam bahasa english lebih mampu di mengerti dan diterima oleh semua user dari berbagai negara. Ditambah bahasa tersebut merupakan bahasa international pertama."
      ],
      "metadata": {
        "id": "DS9QPqm0NWs0"
      }
    },
    {
      "cell_type": "markdown",
      "source": [
        "# A/B Testing"
      ],
      "metadata": {
        "id": "8kW3mixvP0E4"
      }
    },
    {
      "cell_type": "markdown",
      "source": [
        "H0 : Tidak terdapat perbedaan significant antara iklan lama dan iklan baru\n",
        "\n",
        "H1 : Terdapat perbedaan significant antara iklan lama dan iklan baru"
      ],
      "metadata": {
        "id": "_pnX8_rmP4Ce"
      }
    },
    {
      "cell_type": "markdown",
      "source": [
        ""
      ],
      "metadata": {
        "id": "LedB1Cp0QcUF"
      }
    },
    {
      "cell_type": "code",
      "source": [
        "# Menghitung conversion pada setiap variant\n",
        "\n",
        "conv_calculation = df.groupby(\n",
        "    ['variant', 'converted'], as_index = False\n",
        ").size().pivot(\n",
        "    index='variant', columns = \"converted\", values = \"size\"\n",
        ").reset_index().assign(\n",
        "    conv_percent = lambda x: x[True] * 100 / (x[True] + x[False])\n",
        ").assign(\n",
        "    total_sample = lambda x: x[True] + x[False]\n",
        ")"
      ],
      "metadata": {
        "id": "YE2naFixpTar"
      },
      "execution_count": 31,
      "outputs": []
    },
    {
      "cell_type": "code",
      "source": [
        "# Check hasil perhitungan \n",
        "conv_calculation"
      ],
      "metadata": {
        "colab": {
          "base_uri": "https://localhost:8080/",
          "height": 112
        },
        "id": "1UhQewt2quGy",
        "outputId": "589a7dcc-d876-4c3c-919e-1c03ad976fa7"
      },
      "execution_count": 33,
      "outputs": [
        {
          "output_type": "execute_result",
          "data": {
            "text/plain": [
              "converted          variant  False  True  conv_percent  total_sample\n",
              "0                  control    155   112     41.947566           267\n",
              "1          personalization     73   237     76.451613           310"
            ],
            "text/html": [
              "\n",
              "  <div id=\"df-d92a4543-f246-4e51-b9eb-7ddd2f95ffa1\">\n",
              "    <div class=\"colab-df-container\">\n",
              "      <div>\n",
              "<style scoped>\n",
              "    .dataframe tbody tr th:only-of-type {\n",
              "        vertical-align: middle;\n",
              "    }\n",
              "\n",
              "    .dataframe tbody tr th {\n",
              "        vertical-align: top;\n",
              "    }\n",
              "\n",
              "    .dataframe thead th {\n",
              "        text-align: right;\n",
              "    }\n",
              "</style>\n",
              "<table border=\"1\" class=\"dataframe\">\n",
              "  <thead>\n",
              "    <tr style=\"text-align: right;\">\n",
              "      <th>converted</th>\n",
              "      <th>variant</th>\n",
              "      <th>False</th>\n",
              "      <th>True</th>\n",
              "      <th>conv_percent</th>\n",
              "      <th>total_sample</th>\n",
              "    </tr>\n",
              "  </thead>\n",
              "  <tbody>\n",
              "    <tr>\n",
              "      <th>0</th>\n",
              "      <td>control</td>\n",
              "      <td>155</td>\n",
              "      <td>112</td>\n",
              "      <td>41.947566</td>\n",
              "      <td>267</td>\n",
              "    </tr>\n",
              "    <tr>\n",
              "      <th>1</th>\n",
              "      <td>personalization</td>\n",
              "      <td>73</td>\n",
              "      <td>237</td>\n",
              "      <td>76.451613</td>\n",
              "      <td>310</td>\n",
              "    </tr>\n",
              "  </tbody>\n",
              "</table>\n",
              "</div>\n",
              "      <button class=\"colab-df-convert\" onclick=\"convertToInteractive('df-d92a4543-f246-4e51-b9eb-7ddd2f95ffa1')\"\n",
              "              title=\"Convert this dataframe to an interactive table.\"\n",
              "              style=\"display:none;\">\n",
              "        \n",
              "  <svg xmlns=\"http://www.w3.org/2000/svg\" height=\"24px\"viewBox=\"0 0 24 24\"\n",
              "       width=\"24px\">\n",
              "    <path d=\"M0 0h24v24H0V0z\" fill=\"none\"/>\n",
              "    <path d=\"M18.56 5.44l.94 2.06.94-2.06 2.06-.94-2.06-.94-.94-2.06-.94 2.06-2.06.94zm-11 1L8.5 8.5l.94-2.06 2.06-.94-2.06-.94L8.5 2.5l-.94 2.06-2.06.94zm10 10l.94 2.06.94-2.06 2.06-.94-2.06-.94-.94-2.06-.94 2.06-2.06.94z\"/><path d=\"M17.41 7.96l-1.37-1.37c-.4-.4-.92-.59-1.43-.59-.52 0-1.04.2-1.43.59L10.3 9.45l-7.72 7.72c-.78.78-.78 2.05 0 2.83L4 21.41c.39.39.9.59 1.41.59.51 0 1.02-.2 1.41-.59l7.78-7.78 2.81-2.81c.8-.78.8-2.07 0-2.86zM5.41 20L4 18.59l7.72-7.72 1.47 1.35L5.41 20z\"/>\n",
              "  </svg>\n",
              "      </button>\n",
              "      \n",
              "  <style>\n",
              "    .colab-df-container {\n",
              "      display:flex;\n",
              "      flex-wrap:wrap;\n",
              "      gap: 12px;\n",
              "    }\n",
              "\n",
              "    .colab-df-convert {\n",
              "      background-color: #E8F0FE;\n",
              "      border: none;\n",
              "      border-radius: 50%;\n",
              "      cursor: pointer;\n",
              "      display: none;\n",
              "      fill: #1967D2;\n",
              "      height: 32px;\n",
              "      padding: 0 0 0 0;\n",
              "      width: 32px;\n",
              "    }\n",
              "\n",
              "    .colab-df-convert:hover {\n",
              "      background-color: #E2EBFA;\n",
              "      box-shadow: 0px 1px 2px rgba(60, 64, 67, 0.3), 0px 1px 3px 1px rgba(60, 64, 67, 0.15);\n",
              "      fill: #174EA6;\n",
              "    }\n",
              "\n",
              "    [theme=dark] .colab-df-convert {\n",
              "      background-color: #3B4455;\n",
              "      fill: #D2E3FC;\n",
              "    }\n",
              "\n",
              "    [theme=dark] .colab-df-convert:hover {\n",
              "      background-color: #434B5C;\n",
              "      box-shadow: 0px 1px 3px 1px rgba(0, 0, 0, 0.15);\n",
              "      filter: drop-shadow(0px 1px 2px rgba(0, 0, 0, 0.3));\n",
              "      fill: #FFFFFF;\n",
              "    }\n",
              "  </style>\n",
              "\n",
              "      <script>\n",
              "        const buttonEl =\n",
              "          document.querySelector('#df-d92a4543-f246-4e51-b9eb-7ddd2f95ffa1 button.colab-df-convert');\n",
              "        buttonEl.style.display =\n",
              "          google.colab.kernel.accessAllowed ? 'block' : 'none';\n",
              "\n",
              "        async function convertToInteractive(key) {\n",
              "          const element = document.querySelector('#df-d92a4543-f246-4e51-b9eb-7ddd2f95ffa1');\n",
              "          const dataTable =\n",
              "            await google.colab.kernel.invokeFunction('convertToInteractive',\n",
              "                                                     [key], {});\n",
              "          if (!dataTable) return;\n",
              "\n",
              "          const docLinkHtml = 'Like what you see? Visit the ' +\n",
              "            '<a target=\"_blank\" href=https://colab.research.google.com/notebooks/data_table.ipynb>data table notebook</a>'\n",
              "            + ' to learn more about interactive tables.';\n",
              "          element.innerHTML = '';\n",
              "          dataTable['output_type'] = 'display_data';\n",
              "          await google.colab.output.renderOutput(dataTable, element);\n",
              "          const docLink = document.createElement('div');\n",
              "          docLink.innerHTML = docLinkHtml;\n",
              "          element.appendChild(docLink);\n",
              "        }\n",
              "      </script>\n",
              "    </div>\n",
              "  </div>\n",
              "  "
            ]
          },
          "metadata": {},
          "execution_count": 33
        }
      ]
    },
    {
      "cell_type": "markdown",
      "source": [
        "Menghitung uplift untuk variant personalization"
      ],
      "metadata": {
        "id": "fdo4D90bQ86d"
      }
    },
    {
      "cell_type": "code",
      "source": [
        "conv_control = conv_calculation[conv_calculation['variant'] == 'control']['conv_percent'].values\n",
        "conv_personalization = conv_calculation[conv_calculation['variant'] == 'personalization']['conv_percent'].values"
      ],
      "metadata": {
        "id": "8yYOQmMZqyIx"
      },
      "execution_count": 34,
      "outputs": []
    },
    {
      "cell_type": "code",
      "source": [
        "(conv_personalization - conv_control)*100/conv_control"
      ],
      "metadata": {
        "colab": {
          "base_uri": "https://localhost:8080/"
        },
        "id": "cQKOsvxMrQNZ",
        "outputId": "b313378c-d16b-4c02-a75a-7f967fbb8a72"
      },
      "execution_count": 35,
      "outputs": [
        {
          "output_type": "execute_result",
          "data": {
            "text/plain": [
              "array([82.25518433])"
            ]
          },
          "metadata": {},
          "execution_count": 35
        }
      ]
    },
    {
      "cell_type": "markdown",
      "source": [
        "Dilihat sebesar 82% ada efek peningkatan dengan menggunakan iklan baru daripada mengunakan iklan lama"
      ],
      "metadata": {
        "id": "fduxVOEPRJwC"
      }
    },
    {
      "cell_type": "code",
      "source": [
        "# find number of succession\n",
        "success = conv_calculation[['total_sample', True]].values[:,1]\n",
        "# find number of all observations\n",
        "obs = conv_calculation[['total_sample', True]].values[:,0]"
      ],
      "metadata": {
        "id": "TjCKcRd1rTc0"
      },
      "execution_count": 36,
      "outputs": []
    },
    {
      "cell_type": "code",
      "source": [
        "result = proportions_chisquare(success, obs)"
      ],
      "metadata": {
        "id": "dQgBZNMdrp2O"
      },
      "execution_count": 37,
      "outputs": []
    },
    {
      "cell_type": "code",
      "source": [
        "# Calculate chi squared result\n",
        "print('X-squared: %.3f' % result[0])\n",
        "print('p-value: %.3f' % result[1])"
      ],
      "metadata": {
        "colab": {
          "base_uri": "https://localhost:8080/"
        },
        "id": "PCREi3d0rhyx",
        "outputId": "3179d731-5cb9-421c-e732-76c6e90a7dff"
      },
      "execution_count": 38,
      "outputs": [
        {
          "output_type": "stream",
          "name": "stdout",
          "text": [
            "X-squared: 71.454\n",
            "p-value: 0.000\n"
          ]
        }
      ]
    },
    {
      "cell_type": "markdown",
      "source": [
        "Dari hasil tersebut dapat dikatakan bahwa :\n",
        "\n",
        "1. Setelah di converted dan di uji AB testing adanya pengaruh dari iklan baru sebesar 76% dan iklan lama sebesar 41%\n",
        "2. Ditambah uplift 82% relative terhadap perbandingan konversi iklan baru dengan iklan lama\n",
        "3. Karena p-value < 0.05 maka hyphotesis bahwa iklan baru lebih efektif dapat diterima (H1)"
      ],
      "metadata": {
        "id": "-4iuK2bWSOUe"
      }
    },
    {
      "cell_type": "markdown",
      "source": [
        "# Rekomendasi"
      ],
      "metadata": {
        "id": "j3zilXHwrubB"
      }
    },
    {
      "cell_type": "markdown",
      "source": [
        "Berdasarkan hasil pengujian tersebut. Dapat dikatakan bahwa iklan baru memang lebih efektif dibandingkan iklan lama. Dilihat dari range usia pengguna dimulai sekitar 30-55 tahun.\n",
        "\n",
        "Dimana insight yang bisa di berikan adalah:\n",
        "\n",
        "Mengoptimalkan marketing channel pada instagram dan facebook . karena dari analisis menunjukkan bahwa marketing channel dengan user tertinggi terdapat melalui house ads. Tapi tidak di pungkiri dengan era digitalisasi instagram dan facebook dapat dioptimalkan untuk menaikkan user ditambah range usia masih masuk dalam marketing channel tersebut.\n",
        "\n",
        "Lalu penggunaan bahasa untuk iklan yang mampu di mengerti oleh semua orang. Bukan hanya visualisasi yang bagus melainkan bahasa yang mampu di mengerti dan di terjemahkan oleh semua orang. Walaupun languange preferred tertinggi adalah bahasa arab. Tetapi menggunakan bahasa inggris untuk penerjemahan sangatlah efektif untuk meningkatkan dan memperluas jangkauan pada iklan yang baru. Karena bahasa inggris sendiri merupakan bahasa international.\n",
        "\n",
        "Dan harus dipastikan iklan baru yang dibuat sesuai dengan reach usia yang di targetkan dan sesuai dengan target apa yang akan di promosikan. Agar semua bisa berjalan dengan optimal.\n",
        "\n"
      ],
      "metadata": {
        "id": "TRS4VBVdTTxv"
      }
    }
  ]
}